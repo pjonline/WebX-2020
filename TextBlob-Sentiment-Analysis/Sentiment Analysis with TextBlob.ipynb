{
 "cells": [
  {
   "cell_type": "code",
   "execution_count": 20,
   "metadata": {},
   "outputs": [],
   "source": [
    "import requests\n",
    "from bs4 import BeautifulSoup\n",
    "from textblob import TextBlob\n",
    "from IPython.core.display import display, HTML"
   ]
  },
  {
   "cell_type": "code",
   "execution_count": 54,
   "metadata": {
    "scrolled": false
   },
   "outputs": [
    {
     "data": {
      "text/html": [
       "<h1>Title: \n",
       "\r\n",
       "                                        \r\n",
       "\tCoronavirus outbreak advice and statement\r\n",
       "\r\n",
       "                                    \n",
       "</h1>"
      ],
      "text/plain": [
       "<IPython.core.display.HTML object>"
      ]
     },
     "metadata": {},
     "output_type": "display_data"
    },
    {
     "data": {
      "text/html": [
       "<p style=\"font-weight:bold\">Sentiment: (polarity: <span style=\"color:#ff0000\">0.0</span>, (subjectivity: <span style=\"color:#ff0000\">0.0</span></p>"
      ],
      "text/plain": [
       "<IPython.core.display.HTML object>"
      ]
     },
     "metadata": {},
     "output_type": "display_data"
    },
    {
     "data": {
      "text/html": [
       "<p><strong>\n",
       " It is our top priority to ensure the safety and wellbeing of our students, staff and visitors, and to ensure our community is kept aware of the developing situation.  \n",
       "</strong></p>"
      ],
      "text/plain": [
       "<IPython.core.display.HTML object>"
      ]
     },
     "metadata": {},
     "output_type": "display_data"
    },
    {
     "data": {
      "text/html": [
       "<p style=\"font-weight:bold\">Sentiment: (polarity: <span style=\"color:#ff0000\">0.38</span>, (subjectivity: <span style=\"color:#ff0000\">0.38</span></p>"
      ],
      "text/plain": [
       "<IPython.core.display.HTML object>"
      ]
     },
     "metadata": {},
     "output_type": "display_data"
    },
    {
     "data": {
      "text/html": [
       "<p>\n",
       "\n",
       "UOG4 HTML Area Main 1​​​​​​​​​The University of Gloucestershire recognises that staff, students and visitors will have concerns about the ongoing coronavirus outbreak. It is our top priority to ensure the safety and wellbeing of our students, staff and visitors, and to ensure our community is kept aware of the developing situation. ​​\r\n",
       "The risk to the UK population has been assessed as moderate and there are now a small number of confirmed cases of this new infection in the UK. Should things develop further, the University has plans and protocols to manage the evolving situation. The University is ensuring that the advice from Public Health England and The Foreign and Commonwealth Office (FCO) is made available to all our staff and students as it is updated. The FCO advises against all but essential travel to mainland China (not including Hong Kong and Macau), and have now advised UK nationals to leave China where possible.. Staff or students who have returned to the UK from Wuhan and Hubei Province in the last 14 days have been advised to do the following:Stay indoors and avoid contact with other people as with other flu virusesContact NHS 111 to inform them of recent travel to the city. ​Staff or students who have returned to the UK from China (other than Wuhan and Hubei Province), Thailand, Japan, Republic of Korea, Hong Kong, Taiwan, Singapore, Malaysia and Macau, within the last 14 days and develop symptoms of cough, fever or shortness of breath should immediately do the following:Stay indoors and avoid contact with other people as you would the fluCall NHS 111 to inform them of your recent travel to the countryPlease follow this advice even if symptoms are minor. ​The University has made information available for all staff and students about where to go if they have concerns and will continue to monitor the situation carefully. If there is any change to the current advice or any developments, this page will be updated. ​\r\n",
       "For further information and advice please refer to the Public Health England website​, which is updated daily.\n",
       "\n",
       "</p>"
      ],
      "text/plain": [
       "<IPython.core.display.HTML object>"
      ]
     },
     "metadata": {},
     "output_type": "display_data"
    },
    {
     "data": {
      "text/html": [
       "<p style=\"font-weight:bold\">Sentiment: (polarity: <span style=\"color:#ff0000\">0.04</span>, (subjectivity: <span style=\"color:#ff0000\">0.38</span></p>"
      ],
      "text/plain": [
       "<IPython.core.display.HTML object>"
      ]
     },
     "metadata": {},
     "output_type": "display_data"
    },
    {
     "data": {
      "text/html": [
       "<h1>Title: \n",
       "\r\n",
       "                                        \r\n",
       "\tUniversity of Gloucestershire announces new photography award named after acclaimed photojournalist Tom Stoddart\r\n",
       "\r\n",
       "                                    \n",
       "</h1>"
      ],
      "text/plain": [
       "<IPython.core.display.HTML object>"
      ]
     },
     "metadata": {},
     "output_type": "display_data"
    },
    {
     "data": {
      "text/html": [
       "<p style=\"font-weight:bold\">Sentiment: (polarity: <span style=\"color:#ff0000\">0.14</span>, (subjectivity: <span style=\"color:#ff0000\">0.45</span></p>"
      ],
      "text/plain": [
       "<IPython.core.display.HTML object>"
      ]
     },
     "metadata": {},
     "output_type": "display_data"
    },
    {
     "data": {
      "text/html": [
       "<p><strong>\n",
       " Firmly established as one of the worlds most respected photographers, he is now lending his name to the new Tom Stoddart Photojournalism award. \n",
       "</strong></p>"
      ],
      "text/plain": [
       "<IPython.core.display.HTML object>"
      ]
     },
     "metadata": {},
     "output_type": "display_data"
    },
    {
     "data": {
      "text/html": [
       "<p style=\"font-weight:bold\">Sentiment: (polarity: <span style=\"color:#ff0000\">0.15</span>, (subjectivity: <span style=\"color:#ff0000\">0.45</span></p>"
      ],
      "text/plain": [
       "<IPython.core.display.HTML object>"
      ]
     },
     "metadata": {},
     "output_type": "display_data"
    },
    {
     "data": {
      "text/html": [
       "<p>\n",
       "\n",
       "UOG4 HTML Area Main 1​​​​Known for his distinctive black and white pictures, Tom Stoddart has documented key moments in history from the fall of the Berlin Wall to the World Trade Centre attacks. Firmly established as one of the worlds most respected photographers, he is now lending his name to the new Tom Stoddart Photojournalism award. ​The annual competition for students of Photojournalism and Documentary Photography, will recognize and encourage talent at the University of Gloucestershire. The award winner will be chosen by Tom Stoddart himself from shortlisted entries and announced in April. Canon, who are supporting the award have donated a Canon M50 mirrorless camera kit that will be presented to the winner.Photojournalist Tom Stoddart says:\r\n",
       "“I’m honoured that the award will carry my name. Congratulations on getting support from Canon. I’m sure the students will be delighted at the chance of winning a camera.” \n",
       "Photojournalism and Documentary Photography Course Leader, Paul Roberts said:“This award gives students the opportunity to have their work scrutinised by one of the most renowned photojournalists in the UK, our hope is that this will inspire them to achieve their aims to become practicing photojournalist at a time when the world desperately needs photographers to document the truth of the world.”Photography Subject Lead Julia Peck said: \"The Tom Stoddart Award for Photojournalism and Documentary Photography reflects the maturity and ambition of the course. The course enables students to produce images that stand above the crowd and the award recognises the amazing work that students produce.\"\r\n",
       "​\n",
       "\n",
       "</p>"
      ],
      "text/plain": [
       "<IPython.core.display.HTML object>"
      ]
     },
     "metadata": {},
     "output_type": "display_data"
    },
    {
     "data": {
      "text/html": [
       "<p style=\"font-weight:bold\">Sentiment: (polarity: <span style=\"color:#ff0000\">0.14</span>, (subjectivity: <span style=\"color:#ff0000\">0.45</span></p>"
      ],
      "text/plain": [
       "<IPython.core.display.HTML object>"
      ]
     },
     "metadata": {},
     "output_type": "display_data"
    },
    {
     "data": {
      "text/html": [
       "<h1>Title: \n",
       "\r\n",
       "                                        \r\n",
       "\tUniversity of Gloucestershire research recognised at sustainability excellence awards\r\n",
       "\r\n",
       "                                    \n",
       "</h1>"
      ],
      "text/plain": [
       "<IPython.core.display.HTML object>"
      ]
     },
     "metadata": {},
     "output_type": "display_data"
    },
    {
     "data": {
      "text/html": [
       "<p style=\"font-weight:bold\">Sentiment: (polarity: <span style=\"color:#ff0000\">0.0</span>, (subjectivity: <span style=\"color:#ff0000\">0.0</span></p>"
      ],
      "text/plain": [
       "<IPython.core.display.HTML object>"
      ]
     },
     "metadata": {},
     "output_type": "display_data"
    },
    {
     "data": {
      "text/html": [
       "<p><strong>\n",
       " The University of Gloucestershire has taken home the award for Research with Impact at this year’s Green Gown Awards.\n",
       "</strong></p>"
      ],
      "text/plain": [
       "<IPython.core.display.HTML object>"
      ]
     },
     "metadata": {},
     "output_type": "display_data"
    },
    {
     "data": {
      "text/html": [
       "<p style=\"font-weight:bold\">Sentiment: (polarity: <span style=\"color:#ff0000\">-0.2</span>, (subjectivity: <span style=\"color:#ff0000\">0.3</span></p>"
      ],
      "text/plain": [
       "<IPython.core.display.HTML object>"
      ]
     },
     "metadata": {},
     "output_type": "display_data"
    },
    {
     "data": {
      "text/html": [
       "<p>\n",
       "\n",
       "UOG4 HTML Area Main 1​​The University of Gloucestershire has taken home the award for Research with Impact at this year’s Green Gown Awards. The event recognises the exceptional work in sustainability at universities and colleges across the UK. The award was presented to Professor Adam Hart and Professor Anne Goodenough for their work to develop low-cost thermal imaging solutions to reduce rhino poaching.Illegal hunting is a global threat to wildlife and anti-poaching initiatives are making increasing use of technology, such as thermal imaging. This research was praised for its impact on conservation as well the wider benefits for ranger safety, stronger governance, partnership working and professional training.In 2019 the Green Gown awards saw a record number of finalists, with 101 shortlisted entries in 14 categories across the university and college sector. The university was shortlisted in all three categories that it entered. In 2018, the university was Highly Commended (runner up) in the Outstanding Leadership Team of the Year category, and was also shortlisted for the Annual Sustainability Report award.The University of Gloucestershire is ranked as the most sustainable university in the UK (People and Planet League 2019).Alex Ryan, Director of Sustainability at the University of Gloucestershire:“Being recognised for high impact research is a brilliant achievement for our university against tough competition. This project is an excellent example of how powerful research can be in supporting a range of positive benefits. We are very proud of Professor Adam Hart and Professor Anne Goodenough for this richly deserved recognition from expert peers in the sector.”​\n",
       "\n",
       "</p>"
      ],
      "text/plain": [
       "<IPython.core.display.HTML object>"
      ]
     },
     "metadata": {},
     "output_type": "display_data"
    },
    {
     "data": {
      "text/html": [
       "<p style=\"font-weight:bold\">Sentiment: (polarity: <span style=\"color:#ff0000\">0.29</span>, (subjectivity: <span style=\"color:#ff0000\">0.6</span></p>"
      ],
      "text/plain": [
       "<IPython.core.display.HTML object>"
      ]
     },
     "metadata": {},
     "output_type": "display_data"
    },
    {
     "data": {
      "text/html": [
       "<h1>Title: \n",
       "\r\n",
       "                                        \r\n",
       "\tGraduates scoop Best Horror Film at Cardiff International Film Festival\r\n",
       "\r\n",
       "                                    \n",
       "</h1>"
      ],
      "text/plain": [
       "<IPython.core.display.HTML object>"
      ]
     },
     "metadata": {},
     "output_type": "display_data"
    },
    {
     "data": {
      "text/html": [
       "<p style=\"font-weight:bold\">Sentiment: (polarity: <span style=\"color:#ff0000\">0.5</span>, (subjectivity: <span style=\"color:#ff0000\">0.15</span></p>"
      ],
      "text/plain": [
       "<IPython.core.display.HTML object>"
      ]
     },
     "metadata": {},
     "output_type": "display_data"
    },
    {
     "data": {
      "text/html": [
       "<p><strong>\n",
       " A crew of BA Film Production graduates have picked up Cardiff International Film Festival's Best Horror award with their dark folklore-inspired short film, Wither\n",
       "</strong></p>"
      ],
      "text/plain": [
       "<IPython.core.display.HTML object>"
      ]
     },
     "metadata": {},
     "output_type": "display_data"
    },
    {
     "data": {
      "text/html": [
       "<p style=\"font-weight:bold\">Sentiment: (polarity: <span style=\"color:#ff0000\">0.21</span>, (subjectivity: <span style=\"color:#ff0000\">0.25</span></p>"
      ],
      "text/plain": [
       "<IPython.core.display.HTML object>"
      ]
     },
     "metadata": {},
     "output_type": "display_data"
    },
    {
     "data": {
      "text/html": [
       "<p>\n",
       "\n",
       "UOG4 HTML Area Main 1​​​A crew of University of Gloucestershire graduates has been awarded Best Horror Film at the Cardiff International Film Festival​, for their chilling short horror film, Wither. Wither tells the story of a town acclaimed for honouring ancient folklore. The dark tale follows a young girl, who finds herself vulnerable to a sinister mythological farmer after failing to contribute to the annual tradition. \r\n",
       "The original film was co-written, directed and produced by Ethan Evans and Jess Barlett, who led a crew entirely made up of alumni from the BA Film Production class of 2018. The project features cinematography by Robin Niedojadlo, editing by Nicholas Bendle and production design by Rebecca Curran-Hughes – and being part of such a close crew was clearly instrumental to the film’s success. \n",
       "Jess Bartlett, Co-Writer and Producer of Wither, said:“We’re so happy to see Wither doing so well. It was our first film out of uni so we brought together a really amazing crew of people we’d met on our course and we’re so proud of how it turned out. Winning ‘Best Horror Film’ at Cardiff International Film Festival just before Halloween was a treat!”Wither has enjoyed a string of successes since its release, including Official Selection at 2019's Arrow FrightFest in London and Telluride Horror Show in Colorado, USA. \n",
       "Ethan Evans, Co-Writer and Director of Wither, said:“It’s the best feeling to see Wither’s success in its festival run, a short we made on an extremely limited budget straight after graduating Uni. I couldn’t believe it when we were selected for Fright Fest and Telluride Horror Show - two festivals high up on my bucket list! Winning ‘Best Horror Film’ at Cardiff International Film Festival was also a surreal experience and I’m so proud of everyone who was involved - we couldn’t have achieved it without the support from the University and I’m eternally grateful!”Upcoming screenings of Wither include Official Selection at HorrOrigins in Atlanta, USA and Unrestricted View Film Festival in London.The film was made under Ethan and Jess’ new production company, Terror Arcade, focusing on creating dark-genre short films. Terror Arcade is currently in post-production on it's latest original short horror film, Here, Boy! (2019).\n",
       "\n",
       "</p>"
      ],
      "text/plain": [
       "<IPython.core.display.HTML object>"
      ]
     },
     "metadata": {},
     "output_type": "display_data"
    },
    {
     "data": {
      "text/html": [
       "<p style=\"font-weight:bold\">Sentiment: (polarity: <span style=\"color:#ff0000\">0.26</span>, (subjectivity: <span style=\"color:#ff0000\">0.49</span></p>"
      ],
      "text/plain": [
       "<IPython.core.display.HTML object>"
      ]
     },
     "metadata": {},
     "output_type": "display_data"
    },
    {
     "data": {
      "text/html": [
       "<h1>Title: \n",
       "\r\n",
       "                                        \r\n",
       "\tGraduates scoop Best Horror Film at Cardiff International Film Festival\r\n",
       "\r\n",
       "                                    \n",
       "</h1>"
      ],
      "text/plain": [
       "<IPython.core.display.HTML object>"
      ]
     },
     "metadata": {},
     "output_type": "display_data"
    },
    {
     "data": {
      "text/html": [
       "<p style=\"font-weight:bold\">Sentiment: (polarity: <span style=\"color:#ff0000\">0.5</span>, (subjectivity: <span style=\"color:#ff0000\">0.15</span></p>"
      ],
      "text/plain": [
       "<IPython.core.display.HTML object>"
      ]
     },
     "metadata": {},
     "output_type": "display_data"
    },
    {
     "data": {
      "text/html": [
       "<p><strong>\n",
       " A crew of BA Film Production graduates have picked up Cardiff International Film Festival's Best Horror award with their dark folklore-inspired short film, Wither\n",
       "</strong></p>"
      ],
      "text/plain": [
       "<IPython.core.display.HTML object>"
      ]
     },
     "metadata": {},
     "output_type": "display_data"
    },
    {
     "data": {
      "text/html": [
       "<p style=\"font-weight:bold\">Sentiment: (polarity: <span style=\"color:#ff0000\">0.21</span>, (subjectivity: <span style=\"color:#ff0000\">0.25</span></p>"
      ],
      "text/plain": [
       "<IPython.core.display.HTML object>"
      ]
     },
     "metadata": {},
     "output_type": "display_data"
    },
    {
     "data": {
      "text/html": [
       "<p>\n",
       "\n",
       "UOG4 HTML Area Main 1​​​A crew of University of Gloucestershire graduates has been awarded Best Horror Film at the Cardiff International Film Festival​, for their chilling short horror film, Wither. Wither tells the story of a town acclaimed for honouring ancient folklore. The dark tale follows a young girl, who finds herself vulnerable to a sinister mythological farmer after failing to contribute to the annual tradition. \r\n",
       "The original film was co-written, directed and produced by Ethan Evans and Jess Barlett, who led a crew entirely made up of alumni from the BA Film Production class of 2018. The project features cinematography by Robin Niedojadlo, editing by Nicholas Bendle and production design by Rebecca Curran-Hughes – and being part of such a close crew was clearly instrumental to the film’s success. \n",
       "Jess Bartlett, Co-Writer and Producer of Wither, said:“We’re so happy to see Wither doing so well. It was our first film out of uni so we brought together a really amazing crew of people we’d met on our course and we’re so proud of how it turned out. Winning ‘Best Horror Film’ at Cardiff International Film Festival just before Halloween was a treat!”Wither has enjoyed a string of successes since its release, including Official Selection at 2019's Arrow FrightFest in London and Telluride Horror Show in Colorado, USA. \n",
       "Ethan Evans, Co-Writer and Director of Wither, said:“It’s the best feeling to see Wither’s success in its festival run, a short we made on an extremely limited budget straight after graduating Uni. I couldn’t believe it when we were selected for Fright Fest and Telluride Horror Show - two festivals high up on my bucket list! Winning ‘Best Horror Film’ at Cardiff International Film Festival was also a surreal experience and I’m so proud of everyone who was involved - we couldn’t have achieved it without the support from the University and I’m eternally grateful!”Upcoming screenings of Wither include Official Selection at HorrOrigins in Atlanta, USA and Unrestricted View Film Festival in London.The film was made under Ethan and Jess’ new production company, Terror Arcade, focusing on creating dark-genre short films. Terror Arcade is currently in post-production on it's latest original short horror film, Here, Boy! (2019).\n",
       "\n",
       "</p>"
      ],
      "text/plain": [
       "<IPython.core.display.HTML object>"
      ]
     },
     "metadata": {},
     "output_type": "display_data"
    },
    {
     "data": {
      "text/html": [
       "<p style=\"font-weight:bold\">Sentiment: (polarity: <span style=\"color:#ff0000\">0.26</span>, (subjectivity: <span style=\"color:#ff0000\">0.49</span></p>"
      ],
      "text/plain": [
       "<IPython.core.display.HTML object>"
      ]
     },
     "metadata": {},
     "output_type": "display_data"
    },
    {
     "data": {
      "text/html": [
       "<h1>Title: \n",
       "\r\n",
       "                                        \r\n",
       "\tStudents unite Cheltenham against climate change\r\n",
       "\r\n",
       "                                    \n",
       "</h1>"
      ],
      "text/plain": [
       "<IPython.core.display.HTML object>"
      ]
     },
     "metadata": {},
     "output_type": "display_data"
    },
    {
     "data": {
      "text/html": [
       "<p style=\"font-weight:bold\">Sentiment: (polarity: <span style=\"color:#ff0000\">0.0</span>, (subjectivity: <span style=\"color:#ff0000\">0.0</span></p>"
      ],
      "text/plain": [
       "<IPython.core.display.HTML object>"
      ]
     },
     "metadata": {},
     "output_type": "display_data"
    },
    {
     "data": {
      "text/html": [
       "<p><strong>\n",
       " Local residents supported Cheltenham’s slice of the Global Climate Strike, which was organised by passionate university students\n",
       "</strong></p>"
      ],
      "text/plain": [
       "<IPython.core.display.HTML object>"
      ]
     },
     "metadata": {},
     "output_type": "display_data"
    },
    {
     "data": {
      "text/html": [
       "<p style=\"font-weight:bold\">Sentiment: (polarity: <span style=\"color:#ff0000\">-0.02</span>, (subjectivity: <span style=\"color:#ff0000\">0.28</span></p>"
      ],
      "text/plain": [
       "<IPython.core.display.HTML object>"
      ]
     },
     "metadata": {},
     "output_type": "display_data"
    },
    {
     "data": {
      "text/html": [
       "<p>\n",
       "\n",
       "UOG4 HTML Area Main 1​​​​​​​​​​​​​​​​​Written by Yolande Booyse, 3rd year (BSc Hons) Ecology and Environment Scienc​eMy name is Yolande Booyse, I am President of a student society called the Green Team, and I initiated a Cheltenham representation of the Global Climate Strike on the 20th of September 2019. Initially inspired by the incredible young lady Greta Thunberg, who really brought home the urgency of action against climate change, the Cheltenham march gained even more traction than we could have possibly imagined. \r\n",
       "\r\n",
       "Cheltenham: a town united against climate changeI was incredibly proud to be a Cheltonian on Friday, as people from all walks of life were there to stand up for all life forms and make their voices heard and presence felt.  Local and national businesses, the University of Gloucestershire Students’ Union, local government, student societies, religious institutions, political parties, social groups, environmental organisations, and schools - as well as just concerned individuals.We wanted to grab as much coverage as possible: before the strike, we contacted the press, local and national environmental organisations, local government and the police. We invited key members of local government to address the crowd and share their plans for action - which they happily accepted! UK Student Climate Network, the national organisers of this event, were incredible in helping us gain traction for this event across the UK. As soon as I went public, people from all over rallied to spread the word. School parents were written to, working groups were formed, sponsorships were offered and volunteers stepped forward. The support was immense, and numbers grew like wildfire. The event page on Facebook alone peaked at just shy of a 13,000 people reach! It was insane, and we really had no idea how many would turn up. The start of an epic dayThe morning of the strike I received an email from our MP asking to attend, having altered his plans last minute. I did an interview with BBC Gloucestershire who were making the event their main story.At that point I had a feeling it was going to be big. But I could never have prepared myself for the sheer enormity of the event.In particular the sense of pride and unity I felt, not only with each and every person at that Cheltenham strike, but each and every person in the world striking for our planet.I nervously paced around the chapel in between hanging and taping banners, being interviewed and panicking about the PA system. Every now and again I got a glance at the crowds growing bigger and bigger, every glance increasing my heart rate.I had heard a song that I was determined needs to be sung, so I begged and pleaded for singers. In the end I had to be one of those, when really I should not (no really, my singing is only equipped for the shower), but it was how we started our proceedings, and it was beautiful. Penelope our lead singer has an angelic voice and the words “We are all your children. If you hear us, join us now.” drew everyone’s attention towards the start of an epic day.We want climate justice, and we want it NOWOur first speaker, Carol Scott, a woman who is deeply passionate about this preservation of our planet (and a big reason I came forward as organiser for this event), led the crowds into deep contemplation. Carol reminded us that change does not happen by standing around and waiting. Change happens when brave people like us get uncomfortable, make noise and take action.Women didn’t receive equal rights through sitting on the side lines. Racial inequalities did not subside through inaction, and sexual diversity was not respected until people started challenging social norms. We are facing huge issues again, but on a much larger scale, and therefore it is time again to stand up for what is right and what is just!With the crowd lit, megaphone and marshals in tow, we headed off on-mass, to town, shouting at the tops of our voices “WE WANT CLIMATE JUSTICE AND WE WANT IT NOW!”We mesmerised drivers, and gathered more troops along the way, rooted on by the spectators.As we headed through the Brewery, our voices echoed off the walls forcing shoppers, shop keepers and passers-by to stop dead in their tracks and look on as we puffed our chests out and sang our hearts out! Maybe it was just the little boy next to me, but boy the atmosphere was a delight, and the energy I felt around me gave me the boost I needed!I ran up and down that 400 strong crowd squeaking and squawking “What do you want?” They wanted climate justice. “When do you want it?” Now.I won’t lie, I was slowly flaking, my feet were aching and I hadn’t slept in days, but that crowd kept me going.This is an emergency, and we need leaders to act like it isFinally we got to the council buildings. I had arrived with the latter part of the crowd, so seeing how the crowd had grown since we first left university campus was humbling.Chant, after chant, after chant. The troops were unstoppable, and it was a relief that they fully accepted this was their march and didn’t need me to lead them. Ever individual knew what they wanted, they were there to make it known: we are fed up of being lied to, of being fobbed off, of being told there is no problem.I had prepared a few words which I delivered to our town’s leaders, pleading to them to take us seriously, to not give us lip service or sweep this under the carpet. This is an emergency and we need them to act like it is, otherwise step aside and let us sort it out if they won’t.First to speak was Lib Dem Counsillor Max Wilkinson, who was supportive of the strike right from the word go. During those dark moments, when everyone had given me the cold shoulder, Max was there to reassure me that he would not let the crowd down. He assured me he would give the crowd the reassurance that they needed: a promise that local government were taking action on the matter.After Max’s address, Conservative MP for Cheltenham, Alex Chalk, spoke to the crowd. My heart did go out to him: the crowd were not very patient with him, nor were they very accommodating and I remember him discarding his speech in an attempt to connect directly with the crowd. I do honestly believe he is a good man and wants to do the right thing, but maybe instead of us vilifying those in the system, perhaps it is the system that needs vilifying.The third address was from Head of Council, Steve Jordan (to whom I must apologise, as the megaphone I bought on a student budget was inadequate for carrying his voice through the crowd!). Steve has invited me and a film crew to sit down with him and fully explain Cheltenham’s plans regarding the Climate Emergency address, which I will of course share with everyone.We then had further addresses from the Green Party’s Campaign’s Lead, Tabitha Joy, who gave an honest account of the frustration she feels as a public citizen, and from Tolly, from Extinction Rebellion Cheltenham, who have been key in bringing awareness and urgency to the climate emergency.And then a 500-strong crowd of school girls appeared…And then the magic really happened. As we all directed our attention to the noise coming from the north, we saw a 500-strong crowd of Cheltenham Ladies College girls, with a banner the length of a bus, shouting at the tops of their voices “System Change Not Climate Change”.We could do nought but part the crowds and envelope them, if only to soak in the enormous energy and enthusiasm they had just jet-plane landed onto us! For me, exhausted as I was, this was like angels descending from the heavens. I knew that today would go down in history: not just for me, or even for Cheltenham, but also for the world.The youth have spoken and they are angry.This is by no means the end.In fact, we have promised the council we will be following up with them in six month’s-time to see how they are getting on. In order to ensure they listen, we have started an online petition. When we have 750 signatures, our local leaders are legally bound to provide us of such evidence, and I can personally promise you that I will see that happen.So, if you are reading this, and you live, work or study in Cheltenham, no matter your age, may I urge you to stand with me and sign the petition? The faster we  get those 750 signatures, the faster they get their skates on. And it is time for getting skates on.Thanking you on behalf of those that can’t.Your friend, YolandePetition: Cheltenham Urgency on Climate Emergency ​​Facebook: Green Team at the University of Gloucestershire​Photos: Photofabs, AH Photography and @e.photography2351 Other things you might like:​​Read more about why we've been named as the most sustainable university in the UK* (*People and Planet University League 2019)Discover how you could enjoy a vegan or vegetarian diet in GloucestershireFind out more about Student Societies on the University of Gloucstershire Students' Union website\n",
       "\n",
       "</p>"
      ],
      "text/plain": [
       "<IPython.core.display.HTML object>"
      ]
     },
     "metadata": {},
     "output_type": "display_data"
    },
    {
     "data": {
      "text/html": [
       "<p style=\"font-weight:bold\">Sentiment: (polarity: <span style=\"color:#ff0000\">0.12</span>, (subjectivity: <span style=\"color:#ff0000\">0.44</span></p>"
      ],
      "text/plain": [
       "<IPython.core.display.HTML object>"
      ]
     },
     "metadata": {},
     "output_type": "display_data"
    },
    {
     "data": {
      "text/html": [
       "<h1>Title: \n",
       "\r\n",
       "                                        \r\n",
       "\tStudents win at Royal Television Society awards\r\n",
       "\r\n",
       "                                    \n",
       "</h1>"
      ],
      "text/plain": [
       "<IPython.core.display.HTML object>"
      ]
     },
     "metadata": {},
     "output_type": "display_data"
    },
    {
     "data": {
      "text/html": [
       "<p style=\"font-weight:bold\">Sentiment: (polarity: <span style=\"color:#ff0000\">0.8</span>, (subjectivity: <span style=\"color:#ff0000\">0.4</span></p>"
      ],
      "text/plain": [
       "<IPython.core.display.HTML object>"
      ]
     },
     "metadata": {},
     "output_type": "display_data"
    },
    {
     "data": {
      "text/html": [
       "<p><strong>\n",
       " A team of Film Production students from the University of Gloucestershire have been named the winners of the undergraduate Comedy & Entertainment category by the Royal Television Society.\n",
       "</strong></p>"
      ],
      "text/plain": [
       "<IPython.core.display.HTML object>"
      ]
     },
     "metadata": {},
     "output_type": "display_data"
    },
    {
     "data": {
      "text/html": [
       "<p style=\"font-weight:bold\">Sentiment: (polarity: <span style=\"color:#ff0000\">0.0</span>, (subjectivity: <span style=\"color:#ff0000\">0.0</span></p>"
      ],
      "text/plain": [
       "<IPython.core.display.HTML object>"
      ]
     },
     "metadata": {},
     "output_type": "display_data"
    },
    {
     "data": {
      "text/html": [
       "<p>\n",
       "\n",
       "UOG4 HTML Area Main 1​​A team of Film Production students from the University of Gloucestershire have been named the winners of the undergraduate Comedy & Entertainment category by the Royal Television Society. The team, who are in their final year at the University, produced the film ‘Delicious Love’. The judging panel gave warm praise for the film, saying it was ‘Unanimous in its impact on the whole jury. It was distincti​ve, original, and a memorable visual treat with its use of graphics, colour, and set. Loved the narration too.’ The film also earned recognition in other categories, with student Jade Elwood winning the craft skills award for Production Design. The judges commented: ‘So bright and so clever, the look and design of this film were simply outstanding.’ Kate Sinade was also nominated for the craft skills award for Sound on the same film. \n",
       "Siobhan Greene, Head of Entertainment Commissioning, ITV and Chair of the RTS Student Television Awards, said: “The juries this year had some extremely tough decisions to make, narrowing down an impressive line-up of incredibly creative entries from all over the UK. We were delighted to recognise and celebrate the incredible talent coming into the industry last night. Congratulations to all the winners!”  The University’s Media School has enjoyed a year of successes including awards at the Webby Awards (a documentary by Film Production lecturer Lindsey Dryden), the Midlands Media Student Awards (final year Journalism student Hesham Abdelhamid), and the BAFTAs (short film ’73 Cows’ by alumni Alex Lockwood and Oliver Walton). ​​\n",
       "\n",
       "</p>"
      ],
      "text/plain": [
       "<IPython.core.display.HTML object>"
      ]
     },
     "metadata": {},
     "output_type": "display_data"
    },
    {
     "data": {
      "text/html": [
       "<p style=\"font-weight:bold\">Sentiment: (polarity: <span style=\"color:#ff0000\">0.33</span>, (subjectivity: <span style=\"color:#ff0000\">0.62</span></p>"
      ],
      "text/plain": [
       "<IPython.core.display.HTML object>"
      ]
     },
     "metadata": {},
     "output_type": "display_data"
    },
    {
     "data": {
      "text/html": [
       "<h1>Title: \n",
       "\r\n",
       "                                        \r\n",
       "\tLecturer Zayd Dawood named among Nation’s Lifesavers\r\n",
       "\r\n",
       "                                    \n",
       "</h1>"
      ],
      "text/plain": [
       "<IPython.core.display.HTML object>"
      ]
     },
     "metadata": {},
     "output_type": "display_data"
    },
    {
     "data": {
      "text/html": [
       "<p style=\"font-weight:bold\">Sentiment: (polarity: <span style=\"color:#ff0000\">0.0</span>, (subjectivity: <span style=\"color:#ff0000\">0.0</span></p>"
      ],
      "text/plain": [
       "<IPython.core.display.HTML object>"
      ]
     },
     "metadata": {},
     "output_type": "display_data"
    },
    {
     "data": {
      "text/html": [
       "<p><strong>\n",
       " A researcher from the University of Gloucestershire has today (Thursday 16 May) been recognised for his exceptional contribution to keeping the nation healthy.\n",
       "</strong></p>"
      ],
      "text/plain": [
       "<IPython.core.display.HTML object>"
      ]
     },
     "metadata": {},
     "output_type": "display_data"
    },
    {
     "data": {
      "text/html": [
       "<p style=\"font-weight:bold\">Sentiment: (polarity: <span style=\"color:#ff0000\">0.58</span>, (subjectivity: <span style=\"color:#ff0000\">0.75</span></p>"
      ],
      "text/plain": [
       "<IPython.core.display.HTML object>"
      ]
     },
     "metadata": {},
     "output_type": "display_data"
    },
    {
     "data": {
      "text/html": [
       "<p>\n",
       "\n",
       "UOG4 HTML Area Main 1​​A researcher from the University of Gloucestershire has today (Thursday 16 May) been recognised for his exceptional contribution to keeping the nation healthy.Zayd Dawood from the School of Business and Technology has been named for the first time today as one of the Nation's Lifesavers, as part of Universities UK's MadeAtUni campaign, which brings to life the impact of universities on everyday lives.The Nation's Lifesavers are the top 100 individuals or groups based in universities whose work is saving lives or making a life-changing difference to our health and wellbeing. Zayd has been chosen for his work with Service Robotics Ltd developing healthcare robots to monitor and assist the daily life of the elderly. The robot, called the Genie Connect, uses Artificial Intelligence technology to support independent living, providing services ranging from medication reminders to alerting emergency contacts in the event of an accident. [Meet Zayd and Genie in our short video which explains the project more fully.] Zayd Dawood, Academic Course Leader in Digital Media and Web, said: “The public has become versed with the terms 3D cinema, virtual reality and augmented reality – but we're now entering an era of technology that is driven by robots and AI. It's great to be working with Service Robotics Ltd and with an advanced system. The robots will enable the university to teach the next generation of technological development and we're looking forward to making some apps on the robot, almost like an Alexa on Legs.\"Rob Parkes, Co-Founder of Services Robotics Limited, said: \"The University of Gloucestershire has a dynamic approach to working with local businesses, and we have received a lot of help not only from Zayd in software design and strategy for Genie Connect, but also from Jessica Reid, Lecturer in Graphic Design, and marketing support from MBA students. Our relationship with the university's Growth Hub began in the very early stages of our business, following a recommendation from another local business contact.\"Professor Dame Janet Beer, President Universities UK, said: “When people think of lifesavers they tend to focus on the dedication and skill of our doctors, nurses, carers, and paramedics – many of whom are trained at universities. Every day, up and down the country, universities are also working on innovations to transform and save lives. Research taking place in universities is finding solutions to so many of the health and wellbeing issues we care about and the causes that matter.“By proudly working in partnership with charities, the NHS and healthcare organisations, universities are responsible for some of our biggest health breakthroughs and in revolutionising the delivery of care. “This campaign is a chance to bring to life the wonderful and often unexpected work going on every day in our universities and to celebrate some of the people working to make a life-changing difference to the nation.\" Research shows the public are proud of UK universities​ but have little understanding of the benefits they bring, with most not being aware that UK academics are behind many of the discoveries that save lives and keep up healthy. The MadeAtUni campaign gives the public an insight into some of this work and celebrates those who made it happen. More information on the campaign can be found on the dedicated website: www.madeatuni.org.uk.\n",
       "\n",
       "</p>"
      ],
      "text/plain": [
       "<IPython.core.display.HTML object>"
      ]
     },
     "metadata": {},
     "output_type": "display_data"
    },
    {
     "data": {
      "text/html": [
       "<p style=\"font-weight:bold\">Sentiment: (polarity: <span style=\"color:#ff0000\">0.19</span>, (subjectivity: <span style=\"color:#ff0000\">0.43</span></p>"
      ],
      "text/plain": [
       "<IPython.core.display.HTML object>"
      ]
     },
     "metadata": {},
     "output_type": "display_data"
    },
    {
     "data": {
      "text/html": [
       "<h1>Title: \n",
       "\r\n",
       "                                        \r\n",
       "\tPooper Snooper – ridding our streets of dog mess\r\n",
       "\r\n",
       "                                    \n",
       "</h1>"
      ],
      "text/plain": [
       "<IPython.core.display.HTML object>"
      ]
     },
     "metadata": {},
     "output_type": "display_data"
    },
    {
     "data": {
      "text/html": [
       "<p style=\"font-weight:bold\">Sentiment: (polarity: <span style=\"color:#ff0000\">-0.17</span>, (subjectivity: <span style=\"color:#ff0000\">0.17</span></p>"
      ],
      "text/plain": [
       "<IPython.core.display.HTML object>"
      ]
     },
     "metadata": {},
     "output_type": "display_data"
    },
    {
     "data": {
      "text/html": [
       "<p><strong>\n",
       " Pooper Snooper is a new app from the University and Bristol-based company, Natural Apptitude, which harnesses the power of the public to help stamp out dog mess.\n",
       "</strong></p>"
      ],
      "text/plain": [
       "<IPython.core.display.HTML object>"
      ]
     },
     "metadata": {},
     "output_type": "display_data"
    },
    {
     "data": {
      "text/html": [
       "<p style=\"font-weight:bold\">Sentiment: (polarity: <span style=\"color:#ff0000\">0.02</span>, (subjectivity: <span style=\"color:#ff0000\">0.27</span></p>"
      ],
      "text/plain": [
       "<IPython.core.display.HTML object>"
      ]
     },
     "metadata": {},
     "output_type": "display_data"
    },
    {
     "data": {
      "text/html": [
       "<p>\n",
       "\n",
       "UOG4 HTML Area Main 1​Pooper Snooper is a new app from the University and Bristol-based company, Natural Apptitude, which harnesses the power of the public to help stamp out dog mess.Pooper Snooper allows people to record the location of any dog mess they discover on an interactive online map. Not only will this reveal the scale of the problem and provide valuable baseline data, Pooper Snooper users can share this information on social media both to highlight areas that require cleaning up and to encourage more socially responsible dog owners.  Not just an unpleasant inconvenience, dog faeces contain bacteria that cause stomach illnesses, and roundworms that can lead to seizures and even blindness. Parasites in dog mess are also a big problem for livestock, causing sheep and cows to abort their foetuses. Professor Adam Hart from the University is an academic partner of the project who will be analysing the data. He's worked on a number of high profile “citizen science\" projects including the Big Wasp Survey and the Flying Ant Survey. Natural Apptitude is a small software company based in Bristol specialising in the design and development of bespoke smartphone apps and websites. They work in an increasing number of industry sectors (principally ecology, medicine, biology and tourism) and have over 40 projects to their name. They have built an excellent reputation in the field of citizen science and many of their projects are centred on public engagement.  University of Gloucestershire Professor of Science Communication, Adam Hart, said:  “Currently we have very little idea of the scale of the problem, its distribution, the links to other wildlife issues and how we can cost-effectively tackle it. It is a more unusual form of citizen science that's for sure, but we are hoping that lots of people will become “pooper snoopers\" and help to provide the data we need to change behaviour and improve the environment for everyone\".\n",
       " CEO of Natural Apptitude, Dave Kilbey says:  “We all need to take more responsibility for our pets. By highlighting just how bad the problem is, building up a better sense of social responsibly and helping councils to more easily target limited enforcement activities in the worst affected areas we hope to drive that change forward.\"Pooper Scooper launched with the Bristol City Council's 'Bristol Clean Streets' campaign on 22nd March, part of the Great Bristol Spring Clean campaign. People wanting to take part in the project can download Pooper Snooper from the App Store and Google Play or visit the official website.\n",
       "\n",
       "</p>"
      ],
      "text/plain": [
       "<IPython.core.display.HTML object>"
      ]
     },
     "metadata": {},
     "output_type": "display_data"
    },
    {
     "data": {
      "text/html": [
       "<p style=\"font-weight:bold\">Sentiment: (polarity: <span style=\"color:#ff0000\">0.11</span>, (subjectivity: <span style=\"color:#ff0000\">0.47</span></p>"
      ],
      "text/plain": [
       "<IPython.core.display.HTML object>"
      ]
     },
     "metadata": {},
     "output_type": "display_data"
    },
    {
     "data": {
      "text/html": [
       "<h1>Title: \n",
       "\r\n",
       "                                        \r\n",
       "\tUniversity Financial Statements 2017-18\r\n",
       "\r\n",
       "                                    \n",
       "</h1>"
      ],
      "text/plain": [
       "<IPython.core.display.HTML object>"
      ]
     },
     "metadata": {},
     "output_type": "display_data"
    },
    {
     "data": {
      "text/html": [
       "<p style=\"font-weight:bold\">Sentiment: (polarity: <span style=\"color:#ff0000\">0.0</span>, (subjectivity: <span style=\"color:#ff0000\">0.0</span></p>"
      ],
      "text/plain": [
       "<IPython.core.display.HTML object>"
      ]
     },
     "metadata": {},
     "output_type": "display_data"
    },
    {
     "data": {
      "text/html": [
       "<p><strong>\n",
       " The University of Gloucestershire’s Council signed off the University’s Financial Statements for 2017-18 at their meeting on 27 November 2018. \n",
       "</strong></p>"
      ],
      "text/plain": [
       "<IPython.core.display.HTML object>"
      ]
     },
     "metadata": {},
     "output_type": "display_data"
    },
    {
     "data": {
      "text/html": [
       "<p style=\"font-weight:bold\">Sentiment: (polarity: <span style=\"color:#ff0000\">0.0</span>, (subjectivity: <span style=\"color:#ff0000\">0.0</span></p>"
      ],
      "text/plain": [
       "<IPython.core.display.HTML object>"
      ]
     },
     "metadata": {},
     "output_type": "display_data"
    },
    {
     "data": {
      "text/html": [
       "<p>\n",
       "\n",
       "UOG4 HTML Area Main 1The University of Gloucestershire's Council signed off the University's Financial Statements for 2017-18 at their meeting on 27 November 2018. The results show a robust financial position for the University:A surplus for the year of £3.5 million, representing over 4% of turnover.Income rising 2.4% to £85 million.Net Assets of £84 million before pension provisions.Significant investment in the University's infrastructure and estate, while maintaining year end cash at £26 million.  Camille Stallard, University Finance Director, commented: “I am pleased to report that the University has delivered another year of sound financial results, delivering an 8th successive year of sustained performance. Successful delivery of capital projects which have been funded by our own cash, capital grants and new borrowings have contributed to a £14 million improvement in Net Assets.  In a challenging and competitive financial climate, this gives the University a robust financial platform to sustain our good student satisfaction and employment results, offering a great experience for our students.\"The Financial Statements are available for access.\n",
       "\n",
       "</p>"
      ],
      "text/plain": [
       "<IPython.core.display.HTML object>"
      ]
     },
     "metadata": {},
     "output_type": "display_data"
    },
    {
     "data": {
      "text/html": [
       "<p style=\"font-weight:bold\">Sentiment: (polarity: <span style=\"color:#ff0000\">0.29</span>, (subjectivity: <span style=\"color:#ff0000\">0.41</span></p>"
      ],
      "text/plain": [
       "<IPython.core.display.HTML object>"
      ]
     },
     "metadata": {},
     "output_type": "display_data"
    },
    {
     "data": {
      "text/html": [
       "<h1>Title: \n",
       "\r\n",
       "                                        \r\n",
       "\tUniversity to trial a ban on single use cups \r\n",
       "\r\n",
       "                                    \n",
       "</h1>"
      ],
      "text/plain": [
       "<IPython.core.display.HTML object>"
      ]
     },
     "metadata": {},
     "output_type": "display_data"
    },
    {
     "data": {
      "text/html": [
       "<p style=\"font-weight:bold\">Sentiment: (polarity: <span style=\"color:#ff0000\">-0.07</span>, (subjectivity: <span style=\"color:#ff0000\">0.21</span></p>"
      ],
      "text/plain": [
       "<IPython.core.display.HTML object>"
      ]
     },
     "metadata": {},
     "output_type": "display_data"
    },
    {
     "data": {
      "text/html": [
       "<p><strong>\n",
       " Following feedback from staff and students, the university will be removing single use disposable cups from its refectories and coffee counters this summer. \n",
       "</strong></p>"
      ],
      "text/plain": [
       "<IPython.core.display.HTML object>"
      ]
     },
     "metadata": {},
     "output_type": "display_data"
    },
    {
     "data": {
      "text/html": [
       "<p style=\"font-weight:bold\">Sentiment: (polarity: <span style=\"color:#ff0000\">-0.04</span>, (subjectivity: <span style=\"color:#ff0000\">0.16</span></p>"
      ],
      "text/plain": [
       "<IPython.core.display.HTML object>"
      ]
     },
     "metadata": {},
     "output_type": "display_data"
    },
    {
     "data": {
      "text/html": [
       "<p>\n",
       "\n",
       "UOG4 HTML Area Main 1​Following feedback from staff and students, the university will be removing single use disposable cups from its refectories and coffee counters this summer. From Monday 9 July people will be able to use reusable cups or crockery if they are buying a hot drink from one of the refectories run by BaxterStorey.In the last academic year, over 154,000 hot drinks were served at the university, the vast majority of which were served in disposable cups. A survey of staff and students in May and June 2018 showed the university community felt strongly that positive action should be taken to reduce the amount of waste produced.The pilot, which will last for one month will give staff, students and visitors a number of options: bring your own reusable cup and receive a discount on your drink, purchase a reusable cup from the outlet or use a china mug and sit-in with your coffee. The initiative is being run as a partnership between the university's catering supplier Baxter Storey and the university's sustainability team with support from the Students Union. A spokesperson for BaxterStorey said:“We know that students and staff feel strongly about reducing waste and using a sustainable alternative and we hope this is step in the right direction towards that. This is a trial period, but we hope to introduce the initiative permanently for the start of the new academic year.\"Dr Alex Ryan, Director of Sustainability at the University of Gloucestershire, said: “We are so pleased to see this pilot which sets the University on track to be one of the first in the country to eliminate disposable cups entirely. Close collaboration with our caterers, BaxterStorey, has helped to secure our place as second in the UK universities' sustainability league. This initiative is another example of how our catering partnership helps us to drive sustainability in ways that reduce our negative footprint whilst supporting our wellbeing goals and bringing down costs across the estate.\"Dr Nigel Wichall, Director of Estates at the University of Gloucestershire, said: “The Estates team is pleased to support this pilot to work towards eliminating disposable cups across our campuses.  We're working closely with our catering contractors to remove single use cups to enhance the sustainability of the University estate, reduce the amount of waste we produce, and to further improve our recycling rate.\"The cupless trial will be reviewed towards the end of the summer and it's hoped that it will become permanent at the start of the new academic year in September.\n",
       "\n",
       "</p>"
      ],
      "text/plain": [
       "<IPython.core.display.HTML object>"
      ]
     },
     "metadata": {},
     "output_type": "display_data"
    },
    {
     "data": {
      "text/html": [
       "<p style=\"font-weight:bold\">Sentiment: (polarity: <span style=\"color:#ff0000\">0.13</span>, (subjectivity: <span style=\"color:#ff0000\">0.42</span></p>"
      ],
      "text/plain": [
       "<IPython.core.display.HTML object>"
      ]
     },
     "metadata": {},
     "output_type": "display_data"
    },
    {
     "data": {
      "text/html": [
       "<h1>Title: \n",
       "\r\n",
       "                                        \r\n",
       "\tCathedral Lecture explores how women were erased from the Bible\r\n",
       "\r\n",
       "                                    \n",
       "</h1>"
      ],
      "text/plain": [
       "<IPython.core.display.HTML object>"
      ]
     },
     "metadata": {},
     "output_type": "display_data"
    },
    {
     "data": {
      "text/html": [
       "<p style=\"font-weight:bold\">Sentiment: (polarity: <span style=\"color:#ff0000\">0.0</span>, (subjectivity: <span style=\"color:#ff0000\">0.0</span></p>"
      ],
      "text/plain": [
       "<IPython.core.display.HTML object>"
      ]
     },
     "metadata": {},
     "output_type": "display_data"
    },
    {
     "data": {
      "text/html": [
       "<p><strong>\n",
       " Popular speaker and theologian, Dr Paula Gooder presents this year's Michael Perham University Cathedral Lecture: ‘A woman's place?'\n",
       "</strong></p>"
      ],
      "text/plain": [
       "<IPython.core.display.HTML object>"
      ]
     },
     "metadata": {},
     "output_type": "display_data"
    },
    {
     "data": {
      "text/html": [
       "<p style=\"font-weight:bold\">Sentiment: (polarity: <span style=\"color:#ff0000\">0.6</span>, (subjectivity: <span style=\"color:#ff0000\">0.9</span></p>"
      ],
      "text/plain": [
       "<IPython.core.display.HTML object>"
      ]
     },
     "metadata": {},
     "output_type": "display_data"
    },
    {
     "data": {
      "text/html": [
       "<p>\n",
       "\n",
       "UOG4 HTML Area Main 1​Popular speaker and theologian, Dr Paula Gooder presents this year's Michael Perham University Cathedral Lecture: 'A woman's place? Imagining and re-imagining the women in the New Testament', on Tuesday 5 June.Held at Gloucester Cathedral, Dr Gooder will look at how heavily male dominated the Bible is and how easy it is to imagine women out of the story entirely. However there are a few occasions when female perspectives or stories about women are hinted at in the text. The lecture will look at these examples and imagine the few women who were there out of the text, and explore the impact on the stories when we put them back in.Dr Paula Gooder is the Director for Mission and Development in the Birmingham Diocese and a Reader in the Church of England. A former Theologian in Residence for the Bible Society, writer and a visiting lecturer she is passionate about igniting enthusiasm for reading The Bible today and making scholarship accessible. The lecture, named after the former Bishop of Gloucester, Michael Perham, who introduced the event between the University of Gloucestershire and Gloucester Cathedral is a key part of the University Festival. The Festival showcases the talents and achievements of staff and students throughout the academic year, and previous speakers include Alister McGrath and Baroness Julia Neuberger. Admission to the lecture is free, but tickets need to be reserved in advance. The talk is from 7pm at Gloucester Cathedral, Gloucester, 5 June, with refreshments available at the Chapter House from 6:15pm.The Public Lecture series programme is also available online.\n",
       "\n",
       "</p>"
      ],
      "text/plain": [
       "<IPython.core.display.HTML object>"
      ]
     },
     "metadata": {},
     "output_type": "display_data"
    },
    {
     "data": {
      "text/html": [
       "<p style=\"font-weight:bold\">Sentiment: (polarity: <span style=\"color:#ff0000\">0.08</span>, (subjectivity: <span style=\"color:#ff0000\">0.34</span></p>"
      ],
      "text/plain": [
       "<IPython.core.display.HTML object>"
      ]
     },
     "metadata": {},
     "output_type": "display_data"
    }
   ],
   "source": [
    "urls = [\n",
    "    'https://www.glos.ac.uk/news/pages/coronavirus.aspx',\n",
    "    'https://www.glos.ac.uk/news/pages/tom-stoddart-photography-award.aspx',\n",
    "    'https://www.glos.ac.uk/news/pages/university-of-gloucestershire-research-recognised-at-sustainability-excellence-awards.aspx',\n",
    "    'https://www.glos.ac.uk/news/pages/graduates-scoop-best-horror-film-at-cardiff-international-film-festival.aspx',\n",
    "    'https://www.glos.ac.uk/news/pages/graduates-scoop-best-horror-film-at-cardiff-international-film-festival.aspx',\n",
    "    'https://www.glos.ac.uk/news/pages/Students-Unite-Cheltenham-against-Climate-Change.aspx',\n",
    "    'https://www.glos.ac.uk/news/pages/students-win-at-royal-television-society-awards.aspx',\n",
    "    'https://www.glos.ac.uk/news/pages/Zayd-Dawood-named-among-Nations-Lifesavers.aspx',\n",
    "    'https://www.glos.ac.uk/news/pages/Pooper-Snooper-ridding-our-streets-of-dog-mess.aspx',\n",
    "    'https://www.glos.ac.uk/news/pages/University-Financial-Statements-2017-18.aspx',\n",
    "    'https://www.glos.ac.uk/news/pages/University-to-trial-a-ban-on-single-use-cups-.aspx',\n",
    "    'https://www.glos.ac.uk/news/pages/Cathedral-Lecture-explores-how-women-were-erased-from-the-Bible.aspx'\n",
    "]\n",
    "\n",
    "for url in urls:\n",
    "    page = requests.get(url)\n",
    "\n",
    "    soup = BeautifulSoup(page.content, 'html.parser')\n",
    "\n",
    "    results = soup.findAll(\"div\", {\"class\": \"uog4-page-title-inner\"})\n",
    "    textTitle = results[0].text\n",
    "    textTitleBlob = TextBlob(textTitle)\n",
    "\n",
    "    results = soup.findAll(\"div\", {\"class\": \"article-description-inner\"})\n",
    "    textIntro = results[0].text\n",
    "    textIntroBlob = TextBlob(textIntro)\n",
    "\n",
    "    results = soup.findAll(\"div\", {\"class\": \"uog4-rte\"})\n",
    "    textFull = results[0].text\n",
    "    textFullBlob = TextBlob(textFull)\n",
    "\n",
    "    display(HTML('<h1>Title: '+ str(textTitle) +'</h1>'))\n",
    "    display(HTML('<p style=\"font-weight:bold\">Sentiment: (polarity: <span style=\"color:#ff0000\">'+ str(round(textTitleBlob.sentiment[0], 2)) +'</span>, (subjectivity: <span style=\"color:#ff0000\">'+ str(round(textTitleBlob.sentiment[1], 2)) +')</span></p>'))\n",
    "    display(HTML('<p><strong>'+ str(textIntro) +'</strong></p>'))\n",
    "    display(HTML('<p style=\"font-weight:bold\">Sentiment: (polarity: <span style=\"color:#ff0000\">'+ str(round(textIntroBlob.sentiment[0], 2)) +'</span>, (subjectivity: <span style=\"color:#ff0000\">'+ str(round(textIntroBlob.sentiment[1], 2)) +')</span></p>'))\n",
    "    display(HTML('<p>'+ str(textFull) +'</p>'))\n",
    "    display(HTML('<p style=\"font-weight:bold\">Sentiment: (polarity: <span style=\"color:#ff0000\">'+ str(round(textFullBlob.sentiment[0], 2)) +'</span>, (subjectivity: <span style=\"color:#ff0000\">'+ str(round(textFullBlob.sentiment[1], 2)) +')</span></p>'))"
   ]
  },
  {
   "cell_type": "code",
   "execution_count": 57,
   "metadata": {
    "scrolled": true
   },
   "outputs": [
    {
     "data": {
      "text/html": [
       "<p style=\"font-weight:bold\">Sentiment: (polarity: <span style=\"color:#ff0000\">-0.7</span>, (subjectivity: <span style=\"color:#ff0000\">0.67)</span></p>"
      ],
      "text/plain": [
       "<IPython.core.display.HTML object>"
      ]
     },
     "metadata": {},
     "output_type": "display_data"
    }
   ],
   "source": [
    "textTestBlob = TextBlob(\"This is really bad news\")\n",
    "display(HTML('<p style=\"font-weight:bold\">Sentiment: (polarity: <span style=\"color:#ff0000\">'+ str(round(textTestBlob.sentiment[0], 2)) +'</span>, (subjectivity: <span style=\"color:#ff0000\">'+ str(round(textTestBlob.sentiment[1], 2)) +')</span></p>'))"
   ]
  },
  {
   "cell_type": "code",
   "execution_count": 58,
   "metadata": {},
   "outputs": [
    {
     "data": {
      "text/html": [
       "<p style=\"font-weight:bold\">Sentiment: (polarity: <span style=\"color:#ff0000\">1.0</span>, (subjectivity: <span style=\"color:#ff0000\">1.0)</span></p>"
      ],
      "text/plain": [
       "<IPython.core.display.HTML object>"
      ]
     },
     "metadata": {},
     "output_type": "display_data"
    }
   ],
   "source": [
    "textTestBlob = TextBlob(\"This is an excellent news\")\n",
    "display(HTML('<p style=\"font-weight:bold\">Sentiment: (polarity: <span style=\"color:#ff0000\">'+ str(round(textTestBlob.sentiment[0], 2)) +'</span>, (subjectivity: <span style=\"color:#ff0000\">'+ str(round(textTestBlob.sentiment[1], 2)) +')</span></p>'))\n"
   ]
  }
 ],
 "metadata": {
  "hide_input": false,
  "kernelspec": {
   "display_name": "face_recognition_venv",
   "language": "python",
   "name": "face_recognition_venv"
  },
  "language_info": {
   "codemirror_mode": {
    "name": "ipython",
    "version": 3
   },
   "file_extension": ".py",
   "mimetype": "text/x-python",
   "name": "python",
   "nbconvert_exporter": "python",
   "pygments_lexer": "ipython3",
   "version": "3.7.1"
  },
  "toc": {
   "base_numbering": 1,
   "nav_menu": {},
   "number_sections": true,
   "sideBar": true,
   "skip_h1_title": false,
   "title_cell": "Table of Contents",
   "title_sidebar": "Contents",
   "toc_cell": false,
   "toc_position": {},
   "toc_section_display": true,
   "toc_window_display": false
  }
 },
 "nbformat": 4,
 "nbformat_minor": 4
}
