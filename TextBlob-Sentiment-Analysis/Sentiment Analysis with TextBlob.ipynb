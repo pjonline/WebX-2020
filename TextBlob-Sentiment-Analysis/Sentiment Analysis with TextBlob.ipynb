{
 "cells": [
  {
   "cell_type": "code",
   "execution_count": null,
   "metadata": {},
   "outputs": [],
   "source": [
    "import requests\n",
    "from bs4 import BeautifulSoup\n",
    "from textblob import TextBlob\n",
    "from IPython.core.display import display, HTML"
   ]
  },
  {
   "cell_type": "code",
   "execution_count": null,
   "metadata": {
    "scrolled": false
   },
   "outputs": [],
   "source": [
    "urls = [\n",
    "    'https://www.glos.ac.uk/news/pages/coronavirus.aspx',\n",
    "    'https://www.glos.ac.uk/news/pages/tom-stoddart-photography-award.aspx',\n",
    "    'https://www.glos.ac.uk/news/pages/university-of-gloucestershire-research-recognised-at-sustainability-excellence-awards.aspx',\n",
    "    'https://www.glos.ac.uk/news/pages/graduates-scoop-best-horror-film-at-cardiff-international-film-festival.aspx',\n",
    "    'https://www.glos.ac.uk/news/pages/graduates-scoop-best-horror-film-at-cardiff-international-film-festival.aspx',\n",
    "    'https://www.glos.ac.uk/news/pages/Students-Unite-Cheltenham-against-Climate-Change.aspx',\n",
    "    'https://www.glos.ac.uk/news/pages/students-win-at-royal-television-society-awards.aspx',\n",
    "    'https://www.glos.ac.uk/news/pages/Zayd-Dawood-named-among-Nations-Lifesavers.aspx',\n",
    "    'https://www.glos.ac.uk/news/pages/Pooper-Snooper-ridding-our-streets-of-dog-mess.aspx',\n",
    "    'https://www.glos.ac.uk/news/pages/University-Financial-Statements-2017-18.aspx',\n",
    "    'https://www.glos.ac.uk/news/pages/University-to-trial-a-ban-on-single-use-cups-.aspx',\n",
    "    'https://www.glos.ac.uk/news/pages/Cathedral-Lecture-explores-how-women-were-erased-from-the-Bible.aspx'\n",
    "]\n",
    "\n",
    "for url in urls:\n",
    "    page = requests.get(url)\n",
    "\n",
    "    soup = BeautifulSoup(page.content, 'html.parser')\n",
    "\n",
    "    results = soup.findAll(\"div\", {\"class\": \"uog4-page-title-inner\"})\n",
    "    textTitle = results[0].text\n",
    "    textTitleBlob = TextBlob(textTitle)\n",
    "\n",
    "    results = soup.findAll(\"div\", {\"class\": \"article-description-inner\"})\n",
    "    textIntro = results[0].text\n",
    "    textIntroBlob = TextBlob(textIntro)\n",
    "\n",
    "    results = soup.findAll(\"div\", {\"class\": \"uog4-rte\"})\n",
    "    textFull = results[0].text\n",
    "    textFullBlob = TextBlob(textFull)\n",
    "\n",
    "    display(HTML('<h1>Title: '+ str(textTitle) +'</h1>'))\n",
    "    display(HTML('<p style=\"font-weight:bold\">Sentiment: (polarity: <span style=\"color:#ff0000\">'+ str(round(textTitleBlob.sentiment[0], 2)) +'</span>, (subjectivity: <span style=\"color:#ff0000\">'+ str(round(textTitleBlob.sentiment[1], 2)) +'</span>)</p>'))\n",
    "    display(HTML('<p><strong>'+ str(textIntro) +'</strong></p>'))\n",
    "    display(HTML('<p style=\"font-weight:bold\">Sentiment: (polarity: <span style=\"color:#ff0000\">'+ str(round(textIntroBlob.sentiment[0], 2)) +'</span>, (subjectivity: <span style=\"color:#ff0000\">'+ str(round(textIntroBlob.sentiment[1], 2)) +'</span>)</p>'))\n",
    "    display(HTML('<p>'+ str(textFull) +'</p>'))\n",
    "    display(HTML('<p style=\"font-weight:bold\">Sentiment: (polarity: <span style=\"color:#ff0000\">'+ str(round(textFullBlob.sentiment[0], 2)) +'</span>, (subjectivity: <span style=\"color:#ff0000\">'+ str(round(textFullBlob.sentiment[1], 2)) +'</span>)</p>'))"
   ]
  },
  {
   "cell_type": "code",
   "execution_count": null,
   "metadata": {
    "scrolled": true
   },
   "outputs": [],
   "source": [
    "textTest = \"This is really bad news\"\n",
    "textTestBlob = TextBlob(textTest)\n",
    "display(HTML('<h1>Title: '+ str(textTest) +'</h1>'))\n",
    "display(HTML('<p style=\"font-weight:bold\">Sentiment: (polarity: <span style=\"color:#ff0000\">'+ str(round(textTestBlob.sentiment[0], 2)) +'</span>, (subjectivity: <span style=\"color:#ff0000\">'+ str(round(textTestBlob.sentiment[1], 2)) +'</span>)</p>'))"
   ]
  },
  {
   "cell_type": "code",
   "execution_count": null,
   "metadata": {},
   "outputs": [],
   "source": [
    "textTest = \"This is an excellent news\"\n",
    "textTestBlob = TextBlob(textTest)\n",
    "display(HTML('<h1>Title: '+ str(textTest) +'</h1>'))\n",
    "display(HTML('<p style=\"font-weight:bold\">Sentiment: (polarity: <span style=\"color:#ff0000\">'+ str(round(textTestBlob.sentiment[0], 2)) +'</span>, (subjectivity: <span style=\"color:#ff0000\">'+ str(round(textTestBlob.sentiment[1], 2)) +'</span>)</p>'))\n"
   ]
  }
 ],
 "metadata": {
  "hide_input": false,
  "kernelspec": {
   "display_name": "face_recognition_venv",
   "language": "python",
   "name": "face_recognition_venv"
  },
  "language_info": {
   "codemirror_mode": {
    "name": "ipython",
    "version": 3
   },
   "file_extension": ".py",
   "mimetype": "text/x-python",
   "name": "python",
   "nbconvert_exporter": "python",
   "pygments_lexer": "ipython3",
   "version": "3.7.1"
  },
  "toc": {
   "base_numbering": 1,
   "nav_menu": {},
   "number_sections": true,
   "sideBar": true,
   "skip_h1_title": false,
   "title_cell": "Table of Contents",
   "title_sidebar": "Contents",
   "toc_cell": false,
   "toc_position": {},
   "toc_section_display": true,
   "toc_window_display": false
  }
 },
 "nbformat": 4,
 "nbformat_minor": 4
}
