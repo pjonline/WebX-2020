{
 "cells": [
  {
   "cell_type": "markdown",
   "metadata": {},
   "source": [
    "# Load necessary libraries"
   ]
  },
  {
   "cell_type": "code",
   "execution_count": null,
   "metadata": {
    "scrolled": true
   },
   "outputs": [],
   "source": [
    "import face_recognition\n",
    "\n",
    "from PIL import Image as PIL_Image\n",
    "from PIL import ImageDraw as PIL_ImageDraw\n",
    "from PIL import ImageFont as PIL_ImageFont\n",
    "\n",
    "from IPython.display import Image\n",
    "\n",
    "import matplotlib.pyplot as plt\n",
    "import matplotlib.image as mpimg"
   ]
  },
  {
   "cell_type": "markdown",
   "metadata": {},
   "source": [
    "# Display group image"
   ]
  },
  {
   "cell_type": "code",
   "execution_count": null,
   "metadata": {
    "scrolled": false
   },
   "outputs": [],
   "source": [
    "plt.figure(figsize=(80,30))\n",
    "columns = 5\n",
    "images = ['img/groups/team.jpg']\n",
    "for i, image in enumerate(images):\n",
    "    plt.subplot(len(images) / columns + 1, columns, i + 1)\n",
    "    plt.imshow(mpimg.imread(image))"
   ]
  },
  {
   "cell_type": "markdown",
   "metadata": {},
   "source": [
    "# Count the number of people"
   ]
  },
  {
   "cell_type": "code",
   "execution_count": null,
   "metadata": {
    "scrolled": true
   },
   "outputs": [],
   "source": [
    "image = face_recognition.load_image_file('./img/groups/team.jpg')\n",
    "face_locations = face_recognition.face_locations(image)\n",
    "face_encodings = face_recognition.face_encodings(image, face_locations)\n",
    "\n",
    "print(\"There are\", len(face_locations), \"people in this image.\")"
   ]
  },
  {
   "cell_type": "markdown",
   "metadata": {},
   "source": [
    "# Who are we looking for"
   ]
  },
  {
   "cell_type": "code",
   "execution_count": null,
   "metadata": {
    "scrolled": false
   },
   "outputs": [],
   "source": [
    "pj_image = face_recognition.load_image_file('./img/known/przemyslaw-jarzynski-pj.jpg')\n",
    "pj_image_encoding = face_recognition.face_encodings(pj_image)[0]\n",
    "\n",
    "plt.figure(figsize=(30,30))\n",
    "columns = 5\n",
    "images = ['img/known/przemyslaw-jarzynski-pj.jpg']\n",
    "for i, kimage in enumerate(images):\n",
    "    plt.subplot(len(images) / columns + 1, columns, i + 1)\n",
    "    plt.imshow(mpimg.imread(kimage))"
   ]
  },
  {
   "cell_type": "markdown",
   "metadata": {},
   "source": [
    "# Cut out faces"
   ]
  },
  {
   "cell_type": "code",
   "execution_count": null,
   "metadata": {
    "scrolled": false
   },
   "outputs": [],
   "source": [
    "faces = []\n",
    "\n",
    "for face_location in face_locations:\n",
    "    top, right, bottom, left = face_location\n",
    "    face_image = image[top:bottom, left:right]\n",
    "    faces.append(face_image)\n",
    "    # pimage = PIL_Image.fromarray(face_image)\n",
    "    # pimage.show()\n",
    "    # plt.imshow(face_image)\n",
    "\n",
    "plt.figure(figsize=(30,30))\n",
    "\n",
    "for i, face in enumerate(faces):\n",
    "    plt.subplot(len(images) / columns + 1, columns, i + 1)\n",
    "    plt.imshow(face)\n",
    "    #plt.show()"
   ]
  },
  {
   "cell_type": "markdown",
   "metadata": {},
   "source": [
    "# Find and mark known faces"
   ]
  },
  {
   "cell_type": "code",
   "execution_count": null,
   "metadata": {},
   "outputs": [],
   "source": [
    "known_faces_encodings = [pj_image_encoding]\n",
    "known_faces_labels = ['PJ']\n",
    "\n",
    "pimage = PIL_Image.fromarray(image)\n",
    "\n",
    "draw = PIL_ImageDraw.Draw(pimage)\n",
    "\n",
    "for (top, right, bottom, left), face_encoding in zip (face_locations, face_encodings):\n",
    "    matches = face_recognition.compare_faces(known_faces_encodings, face_encoding)\n",
    "    name = \"Unknown\"\n",
    "    if True in matches:\n",
    "        match_index = matches.index(True)\n",
    "        name = known_faces_labels[match_index]\n",
    "        \n",
    "    draw.rectangle(((left, top), (right, bottom)), outline=(255,0,0))\n",
    "    text_width, text_height = draw.textsize(name)\n",
    "    draw.rectangle(((left, bottom - text_height), (right, bottom+17)), fill=(255,0,0), outline=(255,0,0))\n",
    "    fnt = PIL_ImageFont.truetype(\"Roboto-Black.ttf\", 24)\n",
    "    draw.text((left + 6, bottom - text_height), name, font=fnt, fill=(255,255,255,255))\n",
    "    \n",
    "del draw\n",
    "\n",
    "# pimage.show()\n",
    "plt.figure(figsize=(80,30))\n",
    "plt.imshow(pimage)"
   ]
  }
 ],
 "metadata": {
  "hide_input": false,
  "kernelspec": {
   "display_name": "face_recognition_venv",
   "language": "python",
   "name": "face_recognition_venv"
  },
  "language_info": {
   "codemirror_mode": {
    "name": "ipython",
    "version": 3
   },
   "file_extension": ".py",
   "mimetype": "text/x-python",
   "name": "python",
   "nbconvert_exporter": "python",
   "pygments_lexer": "ipython3",
   "version": "3.7.1"
  },
  "toc": {
   "base_numbering": 1,
   "nav_menu": {},
   "number_sections": true,
   "sideBar": true,
   "skip_h1_title": false,
   "title_cell": "Table of Contents",
   "title_sidebar": "Contents",
   "toc_cell": false,
   "toc_position": {},
   "toc_section_display": true,
   "toc_window_display": false
  }
 },
 "nbformat": 4,
 "nbformat_minor": 4
}
